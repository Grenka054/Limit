{
 "cells": [
  {
   "cell_type": "markdown",
   "metadata": {},
   "source": [
    "1. Биноминальное распределение \n",
    "    * *(N)* - кол-во и *(P)* вероятность успеха\n",
    "2. Лямбда (Экспоненциальное)\n",
    "    * *(lambda)* - Константа\n",
    "1. Геометрическое\n",
    "    * *(P)* - Вероятность успеха\n",
    "1. Гипер-геометрическое\n",
    "    * *(N)* - Всего деталей; *(M)* - Всего деффектный деталей; *(n)* - отобранных деталей;\n",
    "1. Равномерное \n",
    "    * *(A)* - левая граница; *(B)* - правая граница\n",
    "1. Нормальное Гауса\n",
    "    * *(alpha)* **??**; *(sigma)* **??**;\n",
    "1. Коши\n",
    "    * Пустота, холодна\n",
    "1. Гамма распределение\n",
    "    * *(alpha)* **??**; *(lambda)* **??**;"
   ]
  },
  {
   "cell_type": "code",
   "execution_count": 1,
   "metadata": {},
   "outputs": [],
   "source": [
    "import pandas as pd\n",
    "import numpy as np"
   ]
  },
  {
   "cell_type": "code",
   "execution_count": 2,
   "metadata": {},
   "outputs": [],
   "source": [
    "from math import factorial\n",
    "def Cnk(k, n):\n",
    "    return factorial(n) / (factorial(n-k) * factorial(k))"
   ]
  },
  {
   "cell_type": "code",
   "execution_count": 3,
   "metadata": {},
   "outputs": [],
   "source": [
    "from math import exp, sqrt, pi\n",
    "def binominal(returnProbs = False, inputString = \"\"):\n",
    "    if inputString != \"\":\n",
    "        N, P = inputString.split()\n",
    "    else:\n",
    "        N, P = input(\"Введите N, P через пробел\").split()\n",
    "    N, P = int(N), float(P)\n",
    "    if P < 0 and P <= 1: raise ValueError(\"P not correct\")\n",
    "    Q = 1 - P;\n",
    "    probs = []\n",
    "    for k in range(N+1):\n",
    "        probs.append(Cnk(k, N) * P**k * Q**(N-k))\n",
    "    if returnProbs: return (probs, range(N+1))\n",
    "    return pd.DataFrame(probs, columns=['P']).plot()\n",
    "\n",
    "def exponental(returnProbs = False, inputString = \"\"):\n",
    "    if inputString != \"\":\n",
    "        N, lam = inputString.split()\n",
    "    else:\n",
    "        N, lam = input(\"Введите N, lam через пробел\").split()\n",
    "    N, lam = int(N), float(lam)\n",
    "    if lam < 0 and lam <= 1: raise ValueError(\"Lambda not correct\")\n",
    "    probs = []\n",
    "    for k in range(N+1):\n",
    "        probs.append(lam * exp(-lam*k))\n",
    "    if returnProbs: return (probs, range(N+1))\n",
    "    return pd.DataFrame(probs, columns=['P']).plot()\n",
    "\n",
    "def geometric(returnProbs = False, inputString = \"\"):\n",
    "    if inputString != \"\":\n",
    "        N, P = inputString.split()\n",
    "    else:\n",
    "        N, P = input(\"Введите N, P через пробел\").split()\n",
    "    N, P = int(N), float(P)\n",
    "    Q = 1 - P;\n",
    "    if P < 0 and P <= 1: raise ValueError(\"P not correct\")\n",
    "    probs = []\n",
    "    for k in range(1, N+1):\n",
    "        probs.append(P*Q**(k-1))\n",
    "    if returnProbs: return (probs, range(1, N+1))\n",
    "    return pd.DataFrame(probs, columns=['P']).plot()\n",
    "\n",
    "def giperGeometric(returnProbs = False, inputString = \"\"):\n",
    "    if inputString != \"\":\n",
    "        N, M, n = inputString.split()\n",
    "    else:\n",
    "        N, M, n = input(\"Введите N, M, n через пробел\").split()\n",
    "    N, M, n = int(N), int(M), int(n)\n",
    "    if M > N: raise ValueError(\"M not correct\")\n",
    "    probs = []\n",
    "    for m in range(min(M,n)+1):\n",
    "        probs.append((Cnk(m, M) * Cnk(n-m, N-M))/Cnk(n,N))\n",
    "    if returnProbs: return (probs, range(min(M,n)+1))\n",
    "    return pd.DataFrame(probs, columns=['P']).plot()\n",
    "\n",
    "def ravnomernoe(returnProbs = False, inputString = \"\"):\n",
    "    if inputString != \"\":\n",
    "        N, A, B = inputString.split()\n",
    "    else:\n",
    "        N, A, B = input(\"Введите N, A, B через пробел\").split()\n",
    "    N, A, B = int(N), int(A), int(B)\n",
    "    if B <= A: raise ValueError(\"B is bigger than A\")\n",
    "    probs = [1/(B-A) for x in range(int(A),int(B)+1)]\n",
    "    if returnProbs: return (probs, range(int(A),int(B)+1))\n",
    "    return pd.Series(np.array(probs),  index=range(A,B)).plot()\n",
    "\n",
    "def gause(returnProbs = False, inputString = \"\"):\n",
    "    if inputString != \"\":\n",
    "        N, alpha, sigma = inputString.split()\n",
    "    else:\n",
    "        N, alpha, sigma = input(\"Введите N, alpha, sigma через пробел\").split()\n",
    "    N, alpha, sigma = int(N), float(alpha), float(sigma)\n",
    "    probs = []\n",
    "    for k in range(-N*10, N*10+1):\n",
    "        probs.append(exp(-((k-alpha)**2)/(2*sigma**2))/(sigma*sqrt(2*pi)))\n",
    "    if returnProbs: return (probs, [x/10 for x in range(-N*10, N*10+1)])\n",
    "    return pd.Series(np.array(probs),  index=[x/10 for x in range(-N*10, N*10+1)]).plot()\n",
    "\n",
    "def gamma(returnProbs = False, inputString = \"\"):\n",
    "    if inputString != \"\":\n",
    "        N, alpha, lam = inputString.split()\n",
    "    else:\n",
    "        N, alpha, lam = input(\"Введите N, alpha, lam через пробел\").split()\n",
    "    N, alpha, lam = int(N), int(alpha), float(lam)\n",
    "    if alpha <= 0 or lam <= 0: raise ValueError(\"alpha or lam below zero\")\n",
    "    probs = []\n",
    "    for k in range(1, N+1):\n",
    "        probs.append(\n",
    "            (lam**alpha * k**(alpha-1) * exp(-lam*k)) / factorial(alpha-1)\n",
    "            )\n",
    "    if returnProbs: return (probs, range(1, N+1))\n",
    "    return pd.Series(np.array(probs)).plot()\n",
    "\n",
    "def koshi(returnProbs = False, inputString = \"\"):\n",
    "    if inputString != \"\":\n",
    "        N = int(inputString)\n",
    "    else:\n",
    "        N = int(input(\"Введите N\"))\n",
    "    probs = []\n",
    "    for k in range(-N, N+1):\n",
    "        probs.append(\n",
    "            1/(pi*(1+k**2))\n",
    "        )\n",
    "    if returnProbs: return (probs, list(range(-N, N+1)))\n",
    "    return pd.Series(np.array(probs), index=range(-N, N+1)).plot()"
   ]
  },
  {
   "cell_type": "code",
   "execution_count": 4,
   "metadata": {},
   "outputs": [],
   "source": [
    "def checkMathEx(N, raspred):\n",
    "    arr = []\n",
    "    inputString = input(\"Введите только параметры (Без N)\")\n",
    "    print(MathEx(raspred, params = str(1) + \" \" + inputString))\n",
    "    for x in range(1, N+1):\n",
    "        probs, inds = raspred(inputString = str(x) + \" \" + inputString, returnProbs = True)\n",
    "        arr.append(sum(probs)/len(probs))\n",
    "    print(arr)\n",
    "    return pd.Series(arr).plot()\n",
    "\n",
    "def MathEx(raspred, params, quant = 1):\n",
    "    probs, inds = raspred(inputString = params, returnProbs = True)\n",
    "    ex = 0\n",
    "    for i in range(len(probs)):\n",
    "        ex += probs[i] * inds[i]**quant\n",
    "    return ex\n",
    "\n",
    "def Disp(raspred, params):\n",
    "    return MathEx(raspred, params, quant=2) - MathEx(raspred, params, quant=1)**2\n",
    "    \n",
    "def checkCPT(N, raspred, inputStr = \"\"):\n",
    "    arr = []\n",
    "    if inputStr == \"\":\n",
    "        inputString = input(\"Введите только параметры (Без N)\")\n",
    "    else:\n",
    "        inputString = inputStr\n",
    "    Ex = MathEx(raspred, str(1) + \" \" + inputString)\n",
    "    Ds = Disp(raspred, str(1) + \" \" + inputString)\n",
    "    for x in range(1, N+1):\n",
    "        params =  str(x) + \" \" + inputString\n",
    "        probs, inds = raspred(inputString = params, returnProbs = True)\n",
    "        arr.append((sum(probs) - x * Ex ) / sqrt(x * Ds))\n",
    "    return pd.Series(arr).plot()"
   ]
  },
  {
   "cell_type": "code",
   "execution_count": 5,
   "metadata": {},
   "outputs": [
    {
     "data": {
      "text/plain": "<AxesSubplot: >"
     },
     "execution_count": 5,
     "metadata": {},
     "output_type": "execute_result"
    },
    {
     "data": {
      "text/plain": "<Figure size 640x480 with 1 Axes>",
      "image/png": "[encoded data removed]"
     },
     "metadata": {},
     "output_type": "display_data"
    }
   ],
   "source": [
    "gause(inputString=\"10 0 3\")"
   ]
  },
  {
   "cell_type": "code",
   "execution_count": 12,
   "metadata": {},
   "outputs": [
    {
     "name": "stderr",
     "output_type": "stream",
     "text": [
      "C:\\Users\\Mr. Grenka\\AppData\\Local\\Temp\\ipykernel_21240\\135231304.py:9: RuntimeWarning: invalid value encountered in double_scalars\n",
      "  arr.append(np.trapz(probs[i*segment:(i+1)*segment+1]) / segment)\n"
     ]
    },
    {
     "data": {
      "text/plain": "<AxesSubplot: >"
     },
     "execution_count": 12,
     "metadata": {},
     "output_type": "execute_result"
    },
    {
     "data": {
      "text/plain": "<Figure size 640x480 with 1 Axes>",
      "image/png": "[encoded data removed]"
     },
     "metadata": {},
     "output_type": "display_data"
    }
   ],
   "source": [
    "def gistograma(N, raspred, params = \"\"):\n",
    "    arr = [] # N sized\n",
    "    segments = []\n",
    "    probs, inds = raspred(returnProbs = True, inputString=params)\n",
    "    dlina = len(probs)\n",
    "    segment = int(dlina / N)\n",
    "    for i in range(N): #0 1 2\n",
    "        segments.append((i*segment,(i+1)*segment))\n",
    "        arr.append(np.trapz(probs[i*segment:(i+1)*segment+1]) / segment)\n",
    "    return pd.Series(arr, index=segments).plot(kind='bar')\n",
    "\n",
    "gistograma(500, binominal, \"10 0.6\")"
   ]
  },
  {
   "cell_type": "code",
   "execution_count": 9,
   "outputs": [
    {
     "data": {
      "text/plain": "<AxesSubplot: >"
     },
     "execution_count": 9,
     "metadata": {},
     "output_type": "execute_result"
    },
    {
     "data": {
      "text/plain": "<Figure size 640x480 with 1 Axes>",
      "image/png": "[encoded data removed]"
     },
     "metadata": {},
     "output_type": "display_data"
    }
   ],
   "source": [
    "binominal()"
   ],
   "metadata": {
    "collapsed": false
   }
  },
  {
   "cell_type": "code",
   "execution_count": 10,
   "outputs": [
    {
     "ename": "ValueError",
     "evalue": "Length of values (7) does not match length of index (6)",
     "output_type": "error",
     "traceback": [
      "\u001B[1;31m---------------------------------------------------------------------------\u001B[0m",
      "\u001B[1;31mValueError\u001B[0m                                Traceback (most recent call last)",
      "Cell \u001B[1;32mIn [10], line 1\u001B[0m\n\u001B[1;32m----> 1\u001B[0m \u001B[43mravnomernoe\u001B[49m\u001B[43m(\u001B[49m\u001B[43m)\u001B[49m\n",
      "Cell \u001B[1;32mIn [3], line 65\u001B[0m, in \u001B[0;36mravnomernoe\u001B[1;34m(returnProbs, inputString)\u001B[0m\n\u001B[0;32m     63\u001B[0m probs \u001B[38;5;241m=\u001B[39m [\u001B[38;5;241m1\u001B[39m\u001B[38;5;241m/\u001B[39m(B\u001B[38;5;241m-\u001B[39mA) \u001B[38;5;28;01mfor\u001B[39;00m x \u001B[38;5;129;01min\u001B[39;00m \u001B[38;5;28mrange\u001B[39m(\u001B[38;5;28mint\u001B[39m(A),\u001B[38;5;28mint\u001B[39m(B)\u001B[38;5;241m+\u001B[39m\u001B[38;5;241m1\u001B[39m)]\n\u001B[0;32m     64\u001B[0m \u001B[38;5;28;01mif\u001B[39;00m returnProbs: \u001B[38;5;28;01mreturn\u001B[39;00m (probs, \u001B[38;5;28mrange\u001B[39m(\u001B[38;5;28mint\u001B[39m(A),\u001B[38;5;28mint\u001B[39m(B)\u001B[38;5;241m+\u001B[39m\u001B[38;5;241m1\u001B[39m))\n\u001B[1;32m---> 65\u001B[0m \u001B[38;5;28;01mreturn\u001B[39;00m \u001B[43mpd\u001B[49m\u001B[38;5;241;43m.\u001B[39;49m\u001B[43mSeries\u001B[49m\u001B[43m(\u001B[49m\u001B[43mnp\u001B[49m\u001B[38;5;241;43m.\u001B[39;49m\u001B[43marray\u001B[49m\u001B[43m(\u001B[49m\u001B[43mprobs\u001B[49m\u001B[43m)\u001B[49m\u001B[43m,\u001B[49m\u001B[43m  \u001B[49m\u001B[43mindex\u001B[49m\u001B[38;5;241;43m=\u001B[39;49m\u001B[38;5;28;43mrange\u001B[39;49m\u001B[43m(\u001B[49m\u001B[43mA\u001B[49m\u001B[43m,\u001B[49m\u001B[43mB\u001B[49m\u001B[43m)\u001B[49m\u001B[43m)\u001B[49m\u001B[38;5;241m.\u001B[39mplot()\n",
      "File \u001B[1;32mD:\\Develop\\Python310\\lib\\site-packages\\pandas\\core\\series.py:461\u001B[0m, in \u001B[0;36mSeries.__init__\u001B[1;34m(self, data, index, dtype, name, copy, fastpath)\u001B[0m\n\u001B[0;32m    459\u001B[0m     index \u001B[38;5;241m=\u001B[39m default_index(\u001B[38;5;28mlen\u001B[39m(data))\n\u001B[0;32m    460\u001B[0m \u001B[38;5;28;01melif\u001B[39;00m is_list_like(data):\n\u001B[1;32m--> 461\u001B[0m     \u001B[43mcom\u001B[49m\u001B[38;5;241;43m.\u001B[39;49m\u001B[43mrequire_length_match\u001B[49m\u001B[43m(\u001B[49m\u001B[43mdata\u001B[49m\u001B[43m,\u001B[49m\u001B[43m \u001B[49m\u001B[43mindex\u001B[49m\u001B[43m)\u001B[49m\n\u001B[0;32m    463\u001B[0m \u001B[38;5;66;03m# create/copy the manager\u001B[39;00m\n\u001B[0;32m    464\u001B[0m \u001B[38;5;28;01mif\u001B[39;00m \u001B[38;5;28misinstance\u001B[39m(data, (SingleBlockManager, SingleArrayManager)):\n",
      "File \u001B[1;32mD:\\Develop\\Python310\\lib\\site-packages\\pandas\\core\\common.py:561\u001B[0m, in \u001B[0;36mrequire_length_match\u001B[1;34m(data, index)\u001B[0m\n\u001B[0;32m    557\u001B[0m \u001B[38;5;124;03m\"\"\"\u001B[39;00m\n\u001B[0;32m    558\u001B[0m \u001B[38;5;124;03mCheck the length of data matches the length of the index.\u001B[39;00m\n\u001B[0;32m    559\u001B[0m \u001B[38;5;124;03m\"\"\"\u001B[39;00m\n\u001B[0;32m    560\u001B[0m \u001B[38;5;28;01mif\u001B[39;00m \u001B[38;5;28mlen\u001B[39m(data) \u001B[38;5;241m!=\u001B[39m \u001B[38;5;28mlen\u001B[39m(index):\n\u001B[1;32m--> 561\u001B[0m     \u001B[38;5;28;01mraise\u001B[39;00m \u001B[38;5;167;01mValueError\u001B[39;00m(\n\u001B[0;32m    562\u001B[0m         \u001B[38;5;124m\"\u001B[39m\u001B[38;5;124mLength of values \u001B[39m\u001B[38;5;124m\"\u001B[39m\n\u001B[0;32m    563\u001B[0m         \u001B[38;5;124mf\u001B[39m\u001B[38;5;124m\"\u001B[39m\u001B[38;5;124m(\u001B[39m\u001B[38;5;132;01m{\u001B[39;00m\u001B[38;5;28mlen\u001B[39m(data)\u001B[38;5;132;01m}\u001B[39;00m\u001B[38;5;124m) \u001B[39m\u001B[38;5;124m\"\u001B[39m\n\u001B[0;32m    564\u001B[0m         \u001B[38;5;124m\"\u001B[39m\u001B[38;5;124mdoes not match length of index \u001B[39m\u001B[38;5;124m\"\u001B[39m\n\u001B[0;32m    565\u001B[0m         \u001B[38;5;124mf\u001B[39m\u001B[38;5;124m\"\u001B[39m\u001B[38;5;124m(\u001B[39m\u001B[38;5;132;01m{\u001B[39;00m\u001B[38;5;28mlen\u001B[39m(index)\u001B[38;5;132;01m}\u001B[39;00m\u001B[38;5;124m)\u001B[39m\u001B[38;5;124m\"\u001B[39m\n\u001B[0;32m    566\u001B[0m     )\n",
      "\u001B[1;31mValueError\u001B[0m: Length of values (7) does not match length of index (6)"
     ]
    }
   ],
   "source": [
    "ravnomernoe()"
   ],
   "metadata": {
    "collapsed": false
   }
  },
  {
   "cell_type": "code",
   "execution_count": null,
   "outputs": [],
   "source": [],
   "metadata": {
    "collapsed": false
   }
  }
 ],
 "metadata": {
  "kernelspec": {
   "display_name": "Python 3.10.2 ('venv': venv)",
   "language": "python",
   "name": "python3"
  },
  "language_info": {
   "codemirror_mode": {
    "name": "ipython",
    "version": 3
   },
   "file_extension": ".py",
   "mimetype": "text/x-python",
   "name": "python",
   "nbconvert_exporter": "python",
   "pygments_lexer": "ipython3",
   "version": "3.10.2"
  },
  "orig_nbformat": 4,
  "vscode": {
   "interpreter": {
    "hash": "6633cb06df30451d2045c4ee874d8b1ba961c67eee502807c861e50b3924e805"
   }
  }
 },
 "nbformat": 4,
 "nbformat_minor": 2
}
